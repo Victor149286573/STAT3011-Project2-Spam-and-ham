{
 "cells": [
  {
   "cell_type": "markdown",
   "metadata": {
    "id": "8jq0aTTCstFj"
   },
   "source": [
    "# Building a Simple NLP Spam Dectector\n",
    "\n",
    "## 1.0 Loading our Data"
   ]
  },
  {
   "cell_type": "code",
   "execution_count": 1,
   "metadata": {
    "colab": {
     "base_uri": "https://localhost:8080/",
     "height": 195
    },
    "executionInfo": {
     "elapsed": 536,
     "status": "ok",
     "timestamp": 1604088192938,
     "user": {
      "displayName": "Rajeev Ratan",
      "photoUrl": "https://lh3.googleusercontent.com/a-/AOh14GhBYJnwdIGYSJdvGmzIt64rYSF1dDuiFyfRw4Rpeg=s64",
      "userId": "08597265227091462140"
     },
     "user_tz": 240
    },
    "id": "Sb_0JPXcrijp",
    "outputId": "854812c9-aa77-48cd-c3d0-4cff0a1ec9de"
   },
   "outputs": [
    {
     "data": {
      "text/html": [
       "<div>\n",
       "<style scoped>\n",
       "    .dataframe tbody tr th:only-of-type {\n",
       "        vertical-align: middle;\n",
       "    }\n",
       "\n",
       "    .dataframe tbody tr th {\n",
       "        vertical-align: top;\n",
       "    }\n",
       "\n",
       "    .dataframe thead th {\n",
       "        text-align: right;\n",
       "    }\n",
       "</style>\n",
       "<table border=\"1\" class=\"dataframe\">\n",
       "  <thead>\n",
       "    <tr style=\"text-align: right;\">\n",
       "      <th></th>\n",
       "      <th>v1</th>\n",
       "      <th>v2</th>\n",
       "      <th>Unnamed: 2</th>\n",
       "      <th>Unnamed: 3</th>\n",
       "      <th>Unnamed: 4</th>\n",
       "    </tr>\n",
       "  </thead>\n",
       "  <tbody>\n",
       "    <tr>\n",
       "      <th>0</th>\n",
       "      <td>ham</td>\n",
       "      <td>Go until jurong point, crazy.. Available only ...</td>\n",
       "      <td>NaN</td>\n",
       "      <td>NaN</td>\n",
       "      <td>NaN</td>\n",
       "    </tr>\n",
       "    <tr>\n",
       "      <th>1</th>\n",
       "      <td>ham</td>\n",
       "      <td>Ok lar... Joking wif u oni...</td>\n",
       "      <td>NaN</td>\n",
       "      <td>NaN</td>\n",
       "      <td>NaN</td>\n",
       "    </tr>\n",
       "    <tr>\n",
       "      <th>2</th>\n",
       "      <td>spam</td>\n",
       "      <td>Free entry in 2 a wkly comp to win FA Cup fina...</td>\n",
       "      <td>NaN</td>\n",
       "      <td>NaN</td>\n",
       "      <td>NaN</td>\n",
       "    </tr>\n",
       "    <tr>\n",
       "      <th>3</th>\n",
       "      <td>ham</td>\n",
       "      <td>U dun say so early hor... U c already then say...</td>\n",
       "      <td>NaN</td>\n",
       "      <td>NaN</td>\n",
       "      <td>NaN</td>\n",
       "    </tr>\n",
       "    <tr>\n",
       "      <th>4</th>\n",
       "      <td>ham</td>\n",
       "      <td>Nah I don't think he goes to usf, he lives aro...</td>\n",
       "      <td>NaN</td>\n",
       "      <td>NaN</td>\n",
       "      <td>NaN</td>\n",
       "    </tr>\n",
       "  </tbody>\n",
       "</table>\n",
       "</div>"
      ],
      "text/plain": [
       "     v1                                                 v2 Unnamed: 2  \\\n",
       "0   ham  Go until jurong point, crazy.. Available only ...        NaN   \n",
       "1   ham                      Ok lar... Joking wif u oni...        NaN   \n",
       "2  spam  Free entry in 2 a wkly comp to win FA Cup fina...        NaN   \n",
       "3   ham  U dun say so early hor... U c already then say...        NaN   \n",
       "4   ham  Nah I don't think he goes to usf, he lives aro...        NaN   \n",
       "\n",
       "  Unnamed: 3 Unnamed: 4  \n",
       "0        NaN        NaN  \n",
       "1        NaN        NaN  \n",
       "2        NaN        NaN  \n",
       "3        NaN        NaN  \n",
       "4        NaN        NaN  "
      ]
     },
     "execution_count": 1,
     "metadata": {},
     "output_type": "execute_result"
    }
   ],
   "source": [
    "import numpy as np\n",
    "import pandas as pd\n",
    "\n",
    "file_name = \"https://raw.githubusercontent.com/rajeevratan84/datascienceforbusiness/master/spam.csv\"\n",
    "data = pd.read_csv(file_name, encoding = \"latin-1\")\n",
    "data.head()"
   ]
  },
  {
   "cell_type": "markdown",
   "metadata": {
    "id": "CmE8BYli7M-n"
   },
   "source": [
    "Let's rename our columns to something a bit more interpretable and extract only the columns we need"
   ]
  },
  {
   "cell_type": "code",
   "execution_count": 2,
   "metadata": {
    "colab": {
     "base_uri": "https://localhost:8080/",
     "height": 195
    },
    "executionInfo": {
     "elapsed": 438,
     "status": "ok",
     "timestamp": 1604088270014,
     "user": {
      "displayName": "Rajeev Ratan",
      "photoUrl": "https://lh3.googleusercontent.com/a-/AOh14GhBYJnwdIGYSJdvGmzIt64rYSF1dDuiFyfRw4Rpeg=s64",
      "userId": "08597265227091462140"
     },
     "user_tz": 240
    },
    "id": "wAQsaFCp7Gpq",
    "outputId": "60dd4e23-eb40-4111-9a39-8e6309bd7f24"
   },
   "outputs": [
    {
     "data": {
      "text/html": [
       "<div>\n",
       "<style scoped>\n",
       "    .dataframe tbody tr th:only-of-type {\n",
       "        vertical-align: middle;\n",
       "    }\n",
       "\n",
       "    .dataframe tbody tr th {\n",
       "        vertical-align: top;\n",
       "    }\n",
       "\n",
       "    .dataframe thead th {\n",
       "        text-align: right;\n",
       "    }\n",
       "</style>\n",
       "<table border=\"1\" class=\"dataframe\">\n",
       "  <thead>\n",
       "    <tr style=\"text-align: right;\">\n",
       "      <th></th>\n",
       "      <th>label</th>\n",
       "      <th>text</th>\n",
       "    </tr>\n",
       "  </thead>\n",
       "  <tbody>\n",
       "    <tr>\n",
       "      <th>0</th>\n",
       "      <td>ham</td>\n",
       "      <td>Go until jurong point, crazy.. Available only ...</td>\n",
       "    </tr>\n",
       "    <tr>\n",
       "      <th>1</th>\n",
       "      <td>ham</td>\n",
       "      <td>Ok lar... Joking wif u oni...</td>\n",
       "    </tr>\n",
       "    <tr>\n",
       "      <th>2</th>\n",
       "      <td>spam</td>\n",
       "      <td>Free entry in 2 a wkly comp to win FA Cup fina...</td>\n",
       "    </tr>\n",
       "    <tr>\n",
       "      <th>3</th>\n",
       "      <td>ham</td>\n",
       "      <td>U dun say so early hor... U c already then say...</td>\n",
       "    </tr>\n",
       "    <tr>\n",
       "      <th>4</th>\n",
       "      <td>ham</td>\n",
       "      <td>Nah I don't think he goes to usf, he lives aro...</td>\n",
       "    </tr>\n",
       "  </tbody>\n",
       "</table>\n",
       "</div>"
      ],
      "text/plain": [
       "  label                                               text\n",
       "0   ham  Go until jurong point, crazy.. Available only ...\n",
       "1   ham                      Ok lar... Joking wif u oni...\n",
       "2  spam  Free entry in 2 a wkly comp to win FA Cup fina...\n",
       "3   ham  U dun say so early hor... U c already then say...\n",
       "4   ham  Nah I don't think he goes to usf, he lives aro..."
      ]
     },
     "execution_count": 2,
     "metadata": {},
     "output_type": "execute_result"
    }
   ],
   "source": [
    "data = data[['v1', 'v2']]\n",
    "data = data.rename(columns = {'v1': 'label', 'v2': 'text'})\n",
    "data.head()"
   ]
  },
  {
   "cell_type": "code",
   "execution_count": 3,
   "metadata": {
    "colab": {
     "base_uri": "https://localhost:8080/"
    },
    "executionInfo": {
     "elapsed": 430,
     "status": "ok",
     "timestamp": 1604088276649,
     "user": {
      "displayName": "Rajeev Ratan",
      "photoUrl": "https://lh3.googleusercontent.com/a-/AOh14GhBYJnwdIGYSJdvGmzIt64rYSF1dDuiFyfRw4Rpeg=s64",
      "userId": "08597265227091462140"
     },
     "user_tz": 240
    },
    "id": "MlbJqgpq7S9x",
    "outputId": "439c7aad-1cf3-4997-8d2e-6f02944af841"
   },
   "outputs": [
    {
     "data": {
      "text/plain": [
       "(5572, 2)"
      ]
     },
     "execution_count": 3,
     "metadata": {},
     "output_type": "execute_result"
    }
   ],
   "source": [
    "data.shape"
   ]
  },
  {
   "cell_type": "code",
   "execution_count": 4,
   "metadata": {
    "colab": {
     "base_uri": "https://localhost:8080/"
    },
    "executionInfo": {
     "elapsed": 454,
     "status": "ok",
     "timestamp": 1604088304997,
     "user": {
      "displayName": "Rajeev Ratan",
      "photoUrl": "https://lh3.googleusercontent.com/a-/AOh14GhBYJnwdIGYSJdvGmzIt64rYSF1dDuiFyfRw4Rpeg=s64",
      "userId": "08597265227091462140"
     },
     "user_tz": 240
    },
    "id": "jHDx4UEp7WFk",
    "outputId": "4227230e-7719-4241-851f-25e6e343ba48"
   },
   "outputs": [
    {
     "data": {
      "text/plain": [
       "array(['ham', 'spam'], dtype=object)"
      ]
     },
     "execution_count": 4,
     "metadata": {},
     "output_type": "execute_result"
    }
   ],
   "source": [
    "data.label.unique()"
   ]
  },
  {
   "cell_type": "code",
   "execution_count": 5,
   "metadata": {
    "colab": {
     "base_uri": "https://localhost:8080/"
    },
    "executionInfo": {
     "elapsed": 419,
     "status": "ok",
     "timestamp": 1604088355780,
     "user": {
      "displayName": "Rajeev Ratan",
      "photoUrl": "https://lh3.googleusercontent.com/a-/AOh14GhBYJnwdIGYSJdvGmzIt64rYSF1dDuiFyfRw4Rpeg=s64",
      "userId": "08597265227091462140"
     },
     "user_tz": 240
    },
    "id": "6dC6tPkP7YMb",
    "outputId": "951f4514-c5d8-4788-f8d8-86b354c82973"
   },
   "outputs": [
    {
     "data": {
      "text/plain": [
       "label    0.0\n",
       "text     0.0\n",
       "dtype: float64"
      ]
     },
     "execution_count": 5,
     "metadata": {},
     "output_type": "execute_result"
    }
   ],
   "source": [
    "# percentage of missing values in each column\n",
    "round(100 * (data.isnull().sum()/len(data)),2).sort_values(ascending=False)"
   ]
  },
  {
   "cell_type": "code",
   "execution_count": 6,
   "metadata": {
    "colab": {
     "base_uri": "https://localhost:8080/",
     "height": 195
    },
    "executionInfo": {
     "elapsed": 423,
     "status": "ok",
     "timestamp": 1604088365249,
     "user": {
      "displayName": "Rajeev Ratan",
      "photoUrl": "https://lh3.googleusercontent.com/a-/AOh14GhBYJnwdIGYSJdvGmzIt64rYSF1dDuiFyfRw4Rpeg=s64",
      "userId": "08597265227091462140"
     },
     "user_tz": 240
    },
    "id": "v0DDdmpLAQZp",
    "outputId": "8b1ca0fe-d7fe-480a-8a74-d48c0ac0ecfb"
   },
   "outputs": [
    {
     "data": {
      "text/html": [
       "<div>\n",
       "<style scoped>\n",
       "    .dataframe tbody tr th:only-of-type {\n",
       "        vertical-align: middle;\n",
       "    }\n",
       "\n",
       "    .dataframe tbody tr th {\n",
       "        vertical-align: top;\n",
       "    }\n",
       "\n",
       "    .dataframe thead th {\n",
       "        text-align: right;\n",
       "    }\n",
       "</style>\n",
       "<table border=\"1\" class=\"dataframe\">\n",
       "  <thead>\n",
       "    <tr style=\"text-align: right;\">\n",
       "      <th></th>\n",
       "      <th>label</th>\n",
       "      <th>text</th>\n",
       "    </tr>\n",
       "  </thead>\n",
       "  <tbody>\n",
       "    <tr>\n",
       "      <th>0</th>\n",
       "      <td>ham</td>\n",
       "      <td>Go until jurong point, crazy.. Available only ...</td>\n",
       "    </tr>\n",
       "    <tr>\n",
       "      <th>1</th>\n",
       "      <td>ham</td>\n",
       "      <td>Ok lar... Joking wif u oni...</td>\n",
       "    </tr>\n",
       "    <tr>\n",
       "      <th>2</th>\n",
       "      <td>spam</td>\n",
       "      <td>Free entry in 2 a wkly comp to win FA Cup fina...</td>\n",
       "    </tr>\n",
       "    <tr>\n",
       "      <th>3</th>\n",
       "      <td>ham</td>\n",
       "      <td>U dun say so early hor... U c already then say...</td>\n",
       "    </tr>\n",
       "    <tr>\n",
       "      <th>4</th>\n",
       "      <td>ham</td>\n",
       "      <td>Nah I don't think he goes to usf, he lives aro...</td>\n",
       "    </tr>\n",
       "  </tbody>\n",
       "</table>\n",
       "</div>"
      ],
      "text/plain": [
       "  label                                               text\n",
       "0   ham  Go until jurong point, crazy.. Available only ...\n",
       "1   ham                      Ok lar... Joking wif u oni...\n",
       "2  spam  Free entry in 2 a wkly comp to win FA Cup fina...\n",
       "3   ham  U dun say so early hor... U c already then say...\n",
       "4   ham  Nah I don't think he goes to usf, he lives aro..."
      ]
     },
     "execution_count": 6,
     "metadata": {},
     "output_type": "execute_result"
    }
   ],
   "source": [
    "data.head()"
   ]
  },
  {
   "cell_type": "code",
   "execution_count": 7,
   "metadata": {
    "colab": {
     "base_uri": "https://localhost:8080/",
     "height": 402
    },
    "executionInfo": {
     "elapsed": 448,
     "status": "ok",
     "timestamp": 1604088393584,
     "user": {
      "displayName": "Rajeev Ratan",
      "photoUrl": "https://lh3.googleusercontent.com/a-/AOh14GhBYJnwdIGYSJdvGmzIt64rYSF1dDuiFyfRw4Rpeg=s64",
      "userId": "08597265227091462140"
     },
     "user_tz": 240
    },
    "id": "1jZjjF2DApTD",
    "outputId": "32e78bae-8d83-4c0f-9efa-88c43b23adb5"
   },
   "outputs": [
    {
     "data": {
      "text/html": [
       "<div>\n",
       "<style scoped>\n",
       "    .dataframe tbody tr th:only-of-type {\n",
       "        vertical-align: middle;\n",
       "    }\n",
       "\n",
       "    .dataframe tbody tr th {\n",
       "        vertical-align: top;\n",
       "    }\n",
       "\n",
       "    .dataframe thead th {\n",
       "        text-align: right;\n",
       "    }\n",
       "</style>\n",
       "<table border=\"1\" class=\"dataframe\">\n",
       "  <thead>\n",
       "    <tr style=\"text-align: right;\">\n",
       "      <th></th>\n",
       "      <th>label</th>\n",
       "      <th>text</th>\n",
       "    </tr>\n",
       "  </thead>\n",
       "  <tbody>\n",
       "    <tr>\n",
       "      <th>102</th>\n",
       "      <td>ham</td>\n",
       "      <td>As per your request 'Melle Melle (Oru Minnamin...</td>\n",
       "    </tr>\n",
       "    <tr>\n",
       "      <th>153</th>\n",
       "      <td>ham</td>\n",
       "      <td>As per your request 'Melle Melle (Oru Minnamin...</td>\n",
       "    </tr>\n",
       "    <tr>\n",
       "      <th>206</th>\n",
       "      <td>ham</td>\n",
       "      <td>As I entered my cabin my PA said, '' Happy B'd...</td>\n",
       "    </tr>\n",
       "    <tr>\n",
       "      <th>222</th>\n",
       "      <td>ham</td>\n",
       "      <td>Sorry, I'll call later</td>\n",
       "    </tr>\n",
       "    <tr>\n",
       "      <th>325</th>\n",
       "      <td>ham</td>\n",
       "      <td>No calls..messages..missed calls</td>\n",
       "    </tr>\n",
       "    <tr>\n",
       "      <th>...</th>\n",
       "      <td>...</td>\n",
       "      <td>...</td>\n",
       "    </tr>\n",
       "    <tr>\n",
       "      <th>5524</th>\n",
       "      <td>spam</td>\n",
       "      <td>You are awarded a SiPix Digital Camera! call 0...</td>\n",
       "    </tr>\n",
       "    <tr>\n",
       "      <th>5535</th>\n",
       "      <td>ham</td>\n",
       "      <td>I know you are thinkin malaria. But relax, chi...</td>\n",
       "    </tr>\n",
       "    <tr>\n",
       "      <th>5539</th>\n",
       "      <td>ham</td>\n",
       "      <td>Just sleeping..and surfing</td>\n",
       "    </tr>\n",
       "    <tr>\n",
       "      <th>5553</th>\n",
       "      <td>ham</td>\n",
       "      <td>Hahaha..use your brain dear</td>\n",
       "    </tr>\n",
       "    <tr>\n",
       "      <th>5558</th>\n",
       "      <td>ham</td>\n",
       "      <td>Sorry, I'll call later</td>\n",
       "    </tr>\n",
       "  </tbody>\n",
       "</table>\n",
       "<p>403 rows × 2 columns</p>\n",
       "</div>"
      ],
      "text/plain": [
       "     label                                               text\n",
       "102    ham  As per your request 'Melle Melle (Oru Minnamin...\n",
       "153    ham  As per your request 'Melle Melle (Oru Minnamin...\n",
       "206    ham  As I entered my cabin my PA said, '' Happy B'd...\n",
       "222    ham                             Sorry, I'll call later\n",
       "325    ham                   No calls..messages..missed calls\n",
       "...    ...                                                ...\n",
       "5524  spam  You are awarded a SiPix Digital Camera! call 0...\n",
       "5535   ham  I know you are thinkin malaria. But relax, chi...\n",
       "5539   ham                         Just sleeping..and surfing\n",
       "5553   ham                        Hahaha..use your brain dear\n",
       "5558   ham                             Sorry, I'll call later\n",
       "\n",
       "[403 rows x 2 columns]"
      ]
     },
     "execution_count": 7,
     "metadata": {},
     "output_type": "execute_result"
    }
   ],
   "source": [
    "data[data[['label', 'text']].duplicated() == True]"
   ]
  },
  {
   "cell_type": "code",
   "execution_count": 8,
   "metadata": {
    "executionInfo": {
     "elapsed": 396,
     "status": "ok",
     "timestamp": 1604088441929,
     "user": {
      "displayName": "Rajeev Ratan",
      "photoUrl": "https://lh3.googleusercontent.com/a-/AOh14GhBYJnwdIGYSJdvGmzIt64rYSF1dDuiFyfRw4Rpeg=s64",
      "userId": "08597265227091462140"
     },
     "user_tz": 240
    },
    "id": "xNvFhxE-BCJj"
   },
   "outputs": [],
   "source": [
    "data = data.drop_duplicates()"
   ]
  },
  {
   "cell_type": "code",
   "execution_count": 9,
   "metadata": {
    "colab": {
     "base_uri": "https://localhost:8080/",
     "height": 47
    },
    "executionInfo": {
     "elapsed": 417,
     "status": "ok",
     "timestamp": 1604088445712,
     "user": {
      "displayName": "Rajeev Ratan",
      "photoUrl": "https://lh3.googleusercontent.com/a-/AOh14GhBYJnwdIGYSJdvGmzIt64rYSF1dDuiFyfRw4Rpeg=s64",
      "userId": "08597265227091462140"
     },
     "user_tz": 240
    },
    "id": "_3c3YMohBFvu",
    "outputId": "dd2c0e1a-56cc-4263-d472-c24482ef9b9b"
   },
   "outputs": [
    {
     "data": {
      "text/html": [
       "<div>\n",
       "<style scoped>\n",
       "    .dataframe tbody tr th:only-of-type {\n",
       "        vertical-align: middle;\n",
       "    }\n",
       "\n",
       "    .dataframe tbody tr th {\n",
       "        vertical-align: top;\n",
       "    }\n",
       "\n",
       "    .dataframe thead th {\n",
       "        text-align: right;\n",
       "    }\n",
       "</style>\n",
       "<table border=\"1\" class=\"dataframe\">\n",
       "  <thead>\n",
       "    <tr style=\"text-align: right;\">\n",
       "      <th></th>\n",
       "      <th>label</th>\n",
       "      <th>text</th>\n",
       "    </tr>\n",
       "  </thead>\n",
       "  <tbody>\n",
       "  </tbody>\n",
       "</table>\n",
       "</div>"
      ],
      "text/plain": [
       "Empty DataFrame\n",
       "Columns: [label, text]\n",
       "Index: []"
      ]
     },
     "execution_count": 9,
     "metadata": {},
     "output_type": "execute_result"
    }
   ],
   "source": [
    "# Sanity Check to make sure it worked\n",
    "data[data[['label', 'text']].duplicated() == True]"
   ]
  },
  {
   "cell_type": "code",
   "execution_count": 10,
   "metadata": {
    "colab": {
     "base_uri": "https://localhost:8080/"
    },
    "executionInfo": {
     "elapsed": 442,
     "status": "ok",
     "timestamp": 1604088450082,
     "user": {
      "displayName": "Rajeev Ratan",
      "photoUrl": "https://lh3.googleusercontent.com/a-/AOh14GhBYJnwdIGYSJdvGmzIt64rYSF1dDuiFyfRw4Rpeg=s64",
      "userId": "08597265227091462140"
     },
     "user_tz": 240
    },
    "id": "6mt-LeoPBGK5",
    "outputId": "59fc2263-b3f0-4388-e558-8a58d5ba24f2"
   },
   "outputs": [
    {
     "data": {
      "text/plain": [
       "(5169, 2)"
      ]
     },
     "execution_count": 10,
     "metadata": {},
     "output_type": "execute_result"
    }
   ],
   "source": [
    "data.shape"
   ]
  },
  {
   "cell_type": "markdown",
   "metadata": {
    "id": "PGg8y-AeGLFR"
   },
   "source": [
    "#### Simple plot of out class label counts"
   ]
  },
  {
   "cell_type": "code",
   "execution_count": 11,
   "metadata": {
    "colab": {
     "base_uri": "https://localhost:8080/",
     "height": 300
    },
    "executionInfo": {
     "elapsed": 452,
     "status": "ok",
     "timestamp": 1604088488958,
     "user": {
      "displayName": "Rajeev Ratan",
      "photoUrl": "https://lh3.googleusercontent.com/a-/AOh14GhBYJnwdIGYSJdvGmzIt64rYSF1dDuiFyfRw4Rpeg=s64",
      "userId": "08597265227091462140"
     },
     "user_tz": 240
    },
    "id": "TWepXCBMFvyE",
    "outputId": "2616257d-8209-445e-f3fb-2a1660638ff1"
   },
   "outputs": [
    {
     "data": {
      "text/plain": [
       "<AxesSubplot:>"
      ]
     },
     "execution_count": 11,
     "metadata": {},
     "output_type": "execute_result"
    },
    {
     "data": {
      "image/png": "[encoded data removed]",
      "text/plain": [
       "<Figure size 640x480 with 1 Axes>"
      ]
     },
     "metadata": {},
     "output_type": "display_data"
    }
   ],
   "source": [
    "data.label.value_counts().plot(kind=\"bar\")"
   ]
  },
  {
   "cell_type": "markdown",
   "metadata": {
    "id": "_TQEep49BawL"
   },
   "source": [
    "# 2. Building our Spam/Ham Classifer"
   ]
  },
  {
   "cell_type": "code",
   "execution_count": 12,
   "metadata": {
    "executionInfo": {
     "elapsed": 436,
     "status": "ok",
     "timestamp": 1604089053419,
     "user": {
      "displayName": "Rajeev Ratan",
      "photoUrl": "https://lh3.googleusercontent.com/a-/AOh14GhBYJnwdIGYSJdvGmzIt64rYSF1dDuiFyfRw4Rpeg=s64",
      "userId": "08597265227091462140"
     },
     "user_tz": 240
    },
    "id": "7H_Uz4xMsWBu"
   },
   "outputs": [],
   "source": [
    "from sklearn.model_selection import train_test_split\n",
    "from sklearn.feature_extraction.text import TfidfVectorizer\n",
    "from sklearn import svm\n",
    "from sklearn.metrics import confusion_matrix\n",
    "from sklearn.metrics import accuracy_score\n",
    "\n",
    "def review_messages(msg):\n",
    "    # converting messages to lowercase\n",
    "    msg = msg.lower()\n",
    "    return msg"
   ]
  },
  {
   "cell_type": "code",
   "execution_count": 13,
   "metadata": {
    "executionInfo": {
     "elapsed": 430,
     "status": "ok",
     "timestamp": 1604089920363,
     "user": {
      "displayName": "Rajeev Ratan",
      "photoUrl": "https://lh3.googleusercontent.com/a-/AOh14GhBYJnwdIGYSJdvGmzIt64rYSF1dDuiFyfRw4Rpeg=s64",
      "userId": "08597265227091462140"
     },
     "user_tz": 240
    },
    "id": "bNeYbeGnsYu_"
   },
   "outputs": [],
   "source": [
    "# Processing text messages\n",
    "data['text'] = data['text'].apply(review_messages)"
   ]
  },
  {
   "cell_type": "code",
   "execution_count": 14,
   "metadata": {
    "colab": {
     "base_uri": "https://localhost:8080/",
     "height": 402
    },
    "executionInfo": {
     "elapsed": 437,
     "status": "ok",
     "timestamp": 1604089926505,
     "user": {
      "displayName": "Rajeev Ratan",
      "photoUrl": "https://lh3.googleusercontent.com/a-/AOh14GhBYJnwdIGYSJdvGmzIt64rYSF1dDuiFyfRw4Rpeg=s64",
      "userId": "08597265227091462140"
     },
     "user_tz": 240
    },
    "id": "3GzYboQPBv4K",
    "outputId": "4df24998-e259-4e53-f839-e540799027af"
   },
   "outputs": [
    {
     "data": {
      "text/html": [
       "<div>\n",
       "<style scoped>\n",
       "    .dataframe tbody tr th:only-of-type {\n",
       "        vertical-align: middle;\n",
       "    }\n",
       "\n",
       "    .dataframe tbody tr th {\n",
       "        vertical-align: top;\n",
       "    }\n",
       "\n",
       "    .dataframe thead th {\n",
       "        text-align: right;\n",
       "    }\n",
       "</style>\n",
       "<table border=\"1\" class=\"dataframe\">\n",
       "  <thead>\n",
       "    <tr style=\"text-align: right;\">\n",
       "      <th></th>\n",
       "      <th>label</th>\n",
       "      <th>text</th>\n",
       "    </tr>\n",
       "  </thead>\n",
       "  <tbody>\n",
       "    <tr>\n",
       "      <th>0</th>\n",
       "      <td>ham</td>\n",
       "      <td>go until jurong point, crazy.. available only ...</td>\n",
       "    </tr>\n",
       "    <tr>\n",
       "      <th>1</th>\n",
       "      <td>ham</td>\n",
       "      <td>ok lar... joking wif u oni...</td>\n",
       "    </tr>\n",
       "    <tr>\n",
       "      <th>2</th>\n",
       "      <td>spam</td>\n",
       "      <td>free entry in 2 a wkly comp to win fa cup fina...</td>\n",
       "    </tr>\n",
       "    <tr>\n",
       "      <th>3</th>\n",
       "      <td>ham</td>\n",
       "      <td>u dun say so early hor... u c already then say...</td>\n",
       "    </tr>\n",
       "    <tr>\n",
       "      <th>4</th>\n",
       "      <td>ham</td>\n",
       "      <td>nah i don't think he goes to usf, he lives aro...</td>\n",
       "    </tr>\n",
       "    <tr>\n",
       "      <th>...</th>\n",
       "      <td>...</td>\n",
       "      <td>...</td>\n",
       "    </tr>\n",
       "    <tr>\n",
       "      <th>5567</th>\n",
       "      <td>spam</td>\n",
       "      <td>this is the 2nd time we have tried 2 contact u...</td>\n",
       "    </tr>\n",
       "    <tr>\n",
       "      <th>5568</th>\n",
       "      <td>ham</td>\n",
       "      <td>will ì_ b going to esplanade fr home?</td>\n",
       "    </tr>\n",
       "    <tr>\n",
       "      <th>5569</th>\n",
       "      <td>ham</td>\n",
       "      <td>pity, * was in mood for that. so...any other s...</td>\n",
       "    </tr>\n",
       "    <tr>\n",
       "      <th>5570</th>\n",
       "      <td>ham</td>\n",
       "      <td>the guy did some bitching but i acted like i'd...</td>\n",
       "    </tr>\n",
       "    <tr>\n",
       "      <th>5571</th>\n",
       "      <td>ham</td>\n",
       "      <td>rofl. its true to its name</td>\n",
       "    </tr>\n",
       "  </tbody>\n",
       "</table>\n",
       "<p>5169 rows × 2 columns</p>\n",
       "</div>"
      ],
      "text/plain": [
       "     label                                               text\n",
       "0      ham  go until jurong point, crazy.. available only ...\n",
       "1      ham                      ok lar... joking wif u oni...\n",
       "2     spam  free entry in 2 a wkly comp to win fa cup fina...\n",
       "3      ham  u dun say so early hor... u c already then say...\n",
       "4      ham  nah i don't think he goes to usf, he lives aro...\n",
       "...    ...                                                ...\n",
       "5567  spam  this is the 2nd time we have tried 2 contact u...\n",
       "5568   ham              will ì_ b going to esplanade fr home?\n",
       "5569   ham  pity, * was in mood for that. so...any other s...\n",
       "5570   ham  the guy did some bitching but i acted like i'd...\n",
       "5571   ham                         rofl. its true to its name\n",
       "\n",
       "[5169 rows x 2 columns]"
      ]
     },
     "execution_count": 14,
     "metadata": {},
     "output_type": "execute_result"
    }
   ],
   "source": [
    "# Inspect the changes on our data\n",
    "data"
   ]
  },
  {
   "cell_type": "markdown",
   "metadata": {
    "id": "HV3oLOS3EknZ"
   },
   "source": [
    "### Preparing our data"
   ]
  },
  {
   "cell_type": "code",
   "execution_count": 15,
   "metadata": {
    "id": "O8rip9YuK0-d"
   },
   "outputs": [],
   "source": [
    "# train test split \n",
    "X_train, X_test, y_train, y_test = train_test_split(data['text'], data['label'], test_size = 0.1, random_state = 1)"
   ]
  },
  {
   "cell_type": "code",
   "execution_count": 16,
   "metadata": {
    "executionInfo": {
     "elapsed": 445,
     "status": "ok",
     "timestamp": 1604089090380,
     "user": {
      "displayName": "Rajeev Ratan",
      "photoUrl": "https://lh3.googleusercontent.com/a-/AOh14GhBYJnwdIGYSJdvGmzIt64rYSF1dDuiFyfRw4Rpeg=s64",
      "userId": "08597265227091462140"
     },
     "user_tz": 240
    },
    "id": "FF2dHCXQsM4F"
   },
   "outputs": [],
   "source": [
    "from sklearn.feature_extraction.text import TfidfVectorizer\n",
    "# training vectorizer\n",
    "vectorizer = TfidfVectorizer()\n",
    "X_train_vec = vectorizer.fit_transform(X_train)"
   ]
  },
  {
   "cell_type": "markdown",
   "metadata": {
    "id": "nAjZPVJxKuXm"
   },
   "source": [
    "![](https://miro.medium.com/max/3604/0*56JnM18OAx1lhIQb.png)"
   ]
  },
  {
   "cell_type": "markdown",
   "metadata": {
    "id": "-fvn-5phK3tI"
   },
   "source": [
    "### Training our model"
   ]
  },
  {
   "cell_type": "code",
   "execution_count": 17,
   "metadata": {
    "colab": {
     "base_uri": "https://localhost:8080/"
    },
    "executionInfo": {
     "elapsed": 2521,
     "status": "ok",
     "timestamp": 1604090095697,
     "user": {
      "displayName": "Rajeev Ratan",
      "photoUrl": "https://lh3.googleusercontent.com/a-/AOh14GhBYJnwdIGYSJdvGmzIt64rYSF1dDuiFyfRw4Rpeg=s64",
      "userId": "08597265227091462140"
     },
     "user_tz": 240
    },
    "id": "uPlaxorAsa2E",
    "outputId": "162eb9ac-67b7-4531-fb1c-6ec84685e098"
   },
   "outputs": [
    {
     "data": {
      "text/plain": [
       "SVC(C=1000)"
      ]
     },
     "execution_count": 17,
     "metadata": {},
     "output_type": "execute_result"
    }
   ],
   "source": [
    "from sklearn import svm\n",
    "# training the classifier \n",
    "svm = svm.SVC(C=1000)\n",
    "svm.fit(X_train_vec, y_train)"
   ]
  },
  {
   "cell_type": "code",
   "execution_count": 18,
   "metadata": {
    "colab": {
     "base_uri": "https://localhost:8080/"
    },
    "executionInfo": {
     "elapsed": 640,
     "status": "ok",
     "timestamp": 1604090137485,
     "user": {
      "displayName": "Rajeev Ratan",
      "photoUrl": "https://lh3.googleusercontent.com/a-/AOh14GhBYJnwdIGYSJdvGmzIt64rYSF1dDuiFyfRw4Rpeg=s64",
      "userId": "08597265227091462140"
     },
     "user_tz": 240
    },
    "id": "icHBwnywscLX",
    "outputId": "e0623c40-00f6-467a-d431-08f20bf31c8b"
   },
   "outputs": [
    {
     "name": "stdout",
     "output_type": "stream",
     "text": [
      "We have an accuracy of: 0.9845261121856866\n",
      "[[462   0]\n",
      " [  8  47]]\n"
     ]
    }
   ],
   "source": [
    "# testing against testing set \n",
    "X_test = vectorizer.transform(X_test)\n",
    "y_pred = svm.predict(X_test) \n",
    "\n",
    "print(\"We have an accuracy of: \" + str(accuracy_score(y_test,y_pred)))\n",
    "print(confusion_matrix(y_test, y_pred))\n",
    "#y_test and y_pred store which are spam or ham\n",
    "#vectorized data matrix store in which email, which word's tfidf"
   ]
  },
  {
   "cell_type": "markdown",
   "metadata": {
    "id": "9_Jt_cMID8Qb"
   },
   "source": [
    "### Predict where your text is Spam or Ham"
   ]
  },
  {
   "cell_type": "code",
   "execution_count": 19,
   "metadata": {
    "executionInfo": {
     "elapsed": 590,
     "status": "ok",
     "timestamp": 1604087452967,
     "user": {
      "displayName": "Rajeev Ratan",
      "photoUrl": "https://lh3.googleusercontent.com/a-/AOh14GhBYJnwdIGYSJdvGmzIt64rYSF1dDuiFyfRw4Rpeg=s64",
      "userId": "08597265227091462140"
     },
     "user_tz": 240
    },
    "id": "u0Qpz_S0sdJ9"
   },
   "outputs": [],
   "source": [
    "# test against new messages \n",
    "def pred(msg):\n",
    "    msg = vectorizer.transform([msg])\n",
    "    prediction = svm.predict(msg)\n",
    "    return prediction[0]"
   ]
  },
  {
   "cell_type": "code",
   "execution_count": 20,
   "metadata": {
    "colab": {
     "base_uri": "https://localhost:8080/"
    },
    "executionInfo": {
     "elapsed": 422,
     "status": "ok",
     "timestamp": 1604090252832,
     "user": {
      "displayName": "Rajeev Ratan",
      "photoUrl": "https://lh3.googleusercontent.com/a-/AOh14GhBYJnwdIGYSJdvGmzIt64rYSF1dDuiFyfRw4Rpeg=s64",
      "userId": "08597265227091462140"
     },
     "user_tz": 240
    },
    "id": "E6O7v-wnrdcq",
    "outputId": "2e647d05-2350-466a-980a-61ad06ae93ff"
   },
   "outputs": [
    {
     "name": "stdout",
     "output_type": "stream",
     "text": [
      "nite nite pocay wocay luv u more than n e thing 4eva i promise ring u 2morrowxxxx\n",
      "Text is - ham\n",
      "\n",
      "guess who spent all last night phasing in and out of the fourth dimension\n",
      "Text is - ham\n",
      "\n",
      "smith waste da.i wanna gayle.\n",
      "Text is - ham\n",
      "\n",
      "reply with your name and address and you will receive by post a weeks completely free accommodation at various global locations www.phb1.com ph:08700435505150p\n",
      "Text is - spam\n",
      "\n",
      "just wanted to say holy shit you guys weren't kidding about this bud\n",
      "Text is - ham\n",
      "\n",
      "just send a text. we'll skype later.\n",
      "Text is - ham\n",
      "\n",
      "ok i thk i got it. then u wan me 2 come now or wat?\n",
      "Text is - ham\n",
      "\n",
      "urgent! call 09061749602 from landline. your complimentary 4* tenerife holiday or å£10,000 cash await collection sae t&cs box 528 hp20 1yf 150ppm 18+\n",
      "Text is - spam\n",
      "\n",
      "wiskey brandy rum gin beer vodka scotch shampain wine \\kudi\\\"yarasu dhina vaazhthukkal. ..\"\n",
      "Text is - ham\n",
      "\n",
      "i see the letter b on my car\n",
      "Text is - ham\n",
      "\n"
     ]
    }
   ],
   "source": [
    "for i in range(0, 10):\n",
    "  rand_index = np.random.randint(0, len(data))\n",
    "  test_sample = data.iloc[rand_index][1]\n",
    "\n",
    "  print(test_sample)\n",
    "  print(\"Text is - \" + str(pred(test_sample)) +\"\\n\")"
   ]
  },
  {
   "cell_type": "code",
   "execution_count": 34,
   "metadata": {},
   "outputs": [
    {
     "name": "stderr",
     "output_type": "stream",
     "text": [
      "C:\\Users\\22600\\anaconda\\lib\\site-packages\\sklearn\\utils\\deprecation.py:87: FutureWarning: Function get_feature_names is deprecated; get_feature_names is deprecated in 1.0 and will be removed in 1.2. Please use get_feature_names_out instead.\n",
      "  warnings.warn(msg, category=FutureWarning)\n",
      "C:\\Users\\22600\\anaconda\\lib\\site-packages\\sklearn\\utils\\deprecation.py:103: FutureWarning: Attribute `coef_` was deprecated in version 0.24 and will be removed in 1.1 (renaming of 0.26).\n",
      "  warnings.warn(msg, category=FutureWarning)\n",
      "C:\\Users\\22600\\anaconda\\lib\\site-packages\\sklearn\\utils\\deprecation.py:87: FutureWarning: Function get_feature_names is deprecated; get_feature_names is deprecated in 1.0 and will be removed in 1.2. Please use get_feature_names_out instead.\n",
      "  warnings.warn(msg, category=FutureWarning)\n"
     ]
    },
    {
     "name": "stdout",
     "output_type": "stream",
     "text": [
      "      feature  coefficient\n",
      "2832     free    -5.897344\n",
      "6745      txt    -6.220625\n",
      "4344   mobile    -6.327226\n",
      "6462     text    -6.359413\n",
      "6175     stop    -6.359893\n",
      "5437    reply    -6.400975\n",
      "1729    claim    -6.402286\n",
      "5158    prize    -6.422231\n",
      "7240      www    -6.534134\n",
      "6845       ur    -6.583185\n",
      "7182      won    -6.712203\n",
      "300      150p    -6.739454\n",
      "1580     cash    -6.745318\n",
      "6849   urgent    -6.757705\n",
      "1884  contact    -6.762475\n",
      "5735  service    -6.771316\n",
      "4538      new    -6.786593\n",
      "6770       uk    -6.813866\n",
      "4577    nokia    -6.820873\n",
      "7133      win    -6.954927\n"
     ]
    },
    {
     "data": {
      "image/png": "[encoded data removed]",
      "text/plain": [
       "<Figure size 600x300 with 1 Axes>"
      ]
     },
     "metadata": {},
     "output_type": "display_data"
    },
    {
     "name": "stdout",
     "output_type": "stream",
     "text": [
      "time cost 0.6524438858032227\n"
     ]
    }
   ],
   "source": [
    "import pandas as pd\n",
    "from sklearn.feature_extraction.text import CountVectorizer, TfidfVectorizer\n",
    "from sklearn.naive_bayes import MultinomialNB\n",
    "from wordcloud import WordCloud\n",
    "import matplotlib.pyplot as plt\n",
    "\n",
    "\n",
    "import time\n",
    "\n",
    "time_start = time.time()\n",
    "\n",
    "\n",
    "# Load the data\n",
    "df = data\n",
    "\n",
    "# Split the data into training and testing sets\n",
    "train = df.sample(frac=0.8, random_state=42)\n",
    "test = df.drop(train.index)\n",
    "\n",
    "# Preprocess the data\n",
    "vectorizer = TfidfVectorizer(stop_words='english', max_features=10000)\n",
    "X_train = vectorizer.fit_transform(train['text'])\n",
    "X_test = vectorizer.transform(test['text'])\n",
    "y_train = train['label']\n",
    "y_test = test['label']\n",
    "\n",
    "# Train the model\n",
    "clf = MultinomialNB() #Naive Bayes\n",
    "clf.fit(X_train, y_train)\n",
    "\n",
    "# Get the top coefficients\n",
    "top_coeffs = pd.DataFrame({'feature': vectorizer.get_feature_names(), 'coefficient': clf.coef_[0]})\n",
    "top_coeffs = top_coeffs.sort_values(by='coefficient', ascending=False)[:20]\n",
    "print(top_coeffs)\n",
    "\n",
    "top_spam_features = [feature_names[i] for i in feature_importance.argsort()[::-1][:20]]\n",
    "\n",
    "\n",
    "\n",
    "# Generate the word cloud\n",
    "wc = WordCloud(width=800, height=400, background_color='white', max_words=30, stopwords=vectorizer.get_stop_words()).generate_from_frequencies(\n",
    "    {word: freq/clf.feature_count_[1].max() for word, freq in zip(vectorizer.get_feature_names(), clf.feature_count_[1])}\n",
    ")\n",
    "plt.figure(figsize=(6,3 ))\n",
    "plt.imshow(wc, interpolation='bilinear')\n",
    "plt.axis('off')\n",
    "plt.show()\n",
    "\n",
    "time_end = time.time()\n",
    "print('time cost',time_end-time_start)"
   ]
  },
  {
   "cell_type": "code",
   "execution_count": 37,
   "metadata": {},
   "outputs": [
    {
     "name": "stdout",
     "output_type": "stream",
     "text": [
      "Top spam features: ['free', 'txt', 'mobile', 'text', 'stop', 'reply', 'claim', 'prize', 'www', 'ur', 'won', '150p', 'cash', 'urgent', 'contact', 'service', 'new', 'uk', 'nokia', 'win']\n",
      "Top ham features: ['jump', 'nange', 'nan', 'namous', 'names', 'named', 'nalli', 'nalla', 'nahi', 'nah', 'nanny', 'nagar', 'naal', 'na', 'n8', 'mystery', 'mys', 'myparents', 'mylife', 'mwahs']\n",
      "       spam        ham\n",
      "0      free       jump\n",
      "1       txt      nange\n",
      "2    mobile        nan\n",
      "3      text     namous\n",
      "4      stop      names\n",
      "5     reply      named\n",
      "6     claim      nalli\n",
      "7     prize      nalla\n",
      "8       www       nahi\n",
      "9        ur        nah\n",
      "10      won      nanny\n",
      "11     150p      nagar\n",
      "12     cash       naal\n",
      "13   urgent         na\n",
      "14  contact         n8\n",
      "15  service    mystery\n",
      "16      new        mys\n",
      "17       uk  myparents\n",
      "18    nokia     mylife\n",
      "19      win      mwahs\n"
     ]
    }
   ],
   "source": [
    "# Get the feature importance\n",
    "feature_importance = clf.coef_[0]\n",
    "\n",
    "# Get the feature names from the vectorizer\n",
    "feature_names = vectorizer.get_feature_names()\n",
    "\n",
    "# Sort the feature importance in descending order and get the top 20 features\n",
    "top_spam_features = [feature_names[i] for i in feature_importance.argsort()[::-1][:20]]\n",
    "top_ham_features = [feature_names[i] for i in feature_importance.argsort()[:20]]\n",
    "\n",
    "top_coeffs = pd.DataFrame({'spam': top_spam_features, 'ham': top_ham_features})\n",
    "\n",
    "\n",
    "# Print the top spam and ham features\n",
    "print('Top spam features:', top_spam_features)\n",
    "print('Top ham features:', top_ham_features)\n",
    "\n",
    "top_coeffs = pd.DataFrame({'spam': top_spam_features, 'ham': top_ham_features})\n",
    "print(top_coeffs)"
   ]
  },
  {
   "cell_type": "code",
   "execution_count": 22,
   "metadata": {},
   "outputs": [
    {
     "name": "stdout",
     "output_type": "stream",
     "text": [
      "Cross-validation scores: [0.94777058 0.94777058 0.8982684  0.90988147 0.92112891 0.8982684\n",
      " 0.91683777 0.91683777 0.91683777 0.93201325]\n",
      "Mean F1 score: 0.9205614910804517\n",
      "Standard deviation of F1 score: 0.01661854172757136\n",
      "scores_recall: [0.83076923 0.83076923 0.69230769 0.72307692 0.75384615 0.69230769\n",
      " 0.74242424 0.74242424 0.74242424 0.78461538]\n",
      "Mean recall score: 0.7534965034965034\n",
      "Standard deviation of recall score: 0.04657459905984041\n",
      "scores_precision: [1. 1. 1. 1. 1. 1. 1. 1. 1. 1.]\n",
      "Mean precision score: 1.0\n",
      "Standard deviation of precision score: 0.0\n"
     ]
    }
   ],
   "source": [
    "from sklearn.model_selection import cross_val_score\n",
    "from sklearn.metrics import make_scorer, recall_score\n",
    "from sklearn.metrics import precision_score\n",
    "\n",
    "clf = MultinomialNB()\n",
    "\n",
    "X = vectorizer.fit_transform(data['text'])\n",
    "y = data['label']\n",
    "\n",
    "# Perform 10-fold cross-validation\n",
    "scores = cross_val_score(clf, X, y, cv=10, scoring='f1_macro')\n",
    "\n",
    "# Print cross-validation scores\n",
    "print('Cross-validation scores:', scores)\n",
    "\n",
    "# Print mean and standard deviation of cross-validation scores\n",
    "print('Mean F1 score:', np.mean(scores))\n",
    "print('Standard deviation of F1 score:', np.std(scores))\n",
    "\n",
    "scoring_recall = make_scorer(recall_score, pos_label='spam')\n",
    "scores_recall = cross_val_score(clf, X, y, cv=10, scoring=scoring_recall)\n",
    "print('scores_recall:', scores_recall)\n",
    "print('Mean recall score:', np.mean(scores_recall))\n",
    "print('Standard deviation of recall score:', np.std(scores_recall))\n",
    "\n",
    "scoring_precision = make_scorer(precision_score, pos_label='spam')\n",
    "scores_precision = cross_val_score(clf, X, y, cv=10, scoring=scoring_precision)\n",
    "print('scores_precision:', scores_precision)\n",
    "print('Mean precision score:', np.mean(scores_precision))\n",
    "print('Standard deviation of precision score:', np.std(scores_precision))"
   ]
  }
 ],
 "metadata": {
  "colab": {
   "name": "Spam Filters.ipynb",
   "provenance": []
  },
  "kernelspec": {
   "display_name": "Python 3 (ipykernel)",
   "language": "python",
   "name": "python3"
  },
  "language_info": {
   "codemirror_mode": {
    "name": "ipython",
    "version": 3
   },
   "file_extension": ".py",
   "mimetype": "text/x-python",
   "name": "python",
   "nbconvert_exporter": "python",
   "pygments_lexer": "ipython3",
   "version": "3.9.13"
  }
 },
 "nbformat": 4,
 "nbformat_minor": 1
}
