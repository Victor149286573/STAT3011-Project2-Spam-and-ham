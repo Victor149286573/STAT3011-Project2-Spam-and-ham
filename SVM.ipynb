{
 "cells": [
  {
   "cell_type": "markdown",
   "metadata": {
    "id": "8jq0aTTCstFj"
   },
   "source": [
    "# Building a Simple NLP Spam Dectector\n",
    "\n",
    "## 1.0 Loading our Data"
   ]
  },
  {
   "cell_type": "code",
   "execution_count": 37,
   "metadata": {
    "colab": {
     "base_uri": "https://localhost:8080/",
     "height": 195
    },
    "executionInfo": {
     "elapsed": 536,
     "status": "ok",
     "timestamp": 1604088192938,
     "user": {
      "displayName": "Rajeev Ratan",
      "photoUrl": "https://lh3.googleusercontent.com/a-/AOh14GhBYJnwdIGYSJdvGmzIt64rYSF1dDuiFyfRw4Rpeg=s64",
      "userId": "08597265227091462140"
     },
     "user_tz": 240
    },
    "id": "Sb_0JPXcrijp",
    "outputId": "854812c9-aa77-48cd-c3d0-4cff0a1ec9de"
   },
   "outputs": [
    {
     "data": {
      "text/html": [
       "<div>\n",
       "<style scoped>\n",
       "    .dataframe tbody tr th:only-of-type {\n",
       "        vertical-align: middle;\n",
       "    }\n",
       "\n",
       "    .dataframe tbody tr th {\n",
       "        vertical-align: top;\n",
       "    }\n",
       "\n",
       "    .dataframe thead th {\n",
       "        text-align: right;\n",
       "    }\n",
       "</style>\n",
       "<table border=\"1\" class=\"dataframe\">\n",
       "  <thead>\n",
       "    <tr style=\"text-align: right;\">\n",
       "      <th></th>\n",
       "      <th>v1</th>\n",
       "      <th>v2</th>\n",
       "      <th>Unnamed: 2</th>\n",
       "      <th>Unnamed: 3</th>\n",
       "      <th>Unnamed: 4</th>\n",
       "    </tr>\n",
       "  </thead>\n",
       "  <tbody>\n",
       "    <tr>\n",
       "      <th>0</th>\n",
       "      <td>ham</td>\n",
       "      <td>Go until jurong point, crazy.. Available only ...</td>\n",
       "      <td>NaN</td>\n",
       "      <td>NaN</td>\n",
       "      <td>NaN</td>\n",
       "    </tr>\n",
       "    <tr>\n",
       "      <th>1</th>\n",
       "      <td>ham</td>\n",
       "      <td>Ok lar... Joking wif u oni...</td>\n",
       "      <td>NaN</td>\n",
       "      <td>NaN</td>\n",
       "      <td>NaN</td>\n",
       "    </tr>\n",
       "    <tr>\n",
       "      <th>2</th>\n",
       "      <td>spam</td>\n",
       "      <td>Free entry in 2 a wkly comp to win FA Cup fina...</td>\n",
       "      <td>NaN</td>\n",
       "      <td>NaN</td>\n",
       "      <td>NaN</td>\n",
       "    </tr>\n",
       "    <tr>\n",
       "      <th>3</th>\n",
       "      <td>ham</td>\n",
       "      <td>U dun say so early hor... U c already then say...</td>\n",
       "      <td>NaN</td>\n",
       "      <td>NaN</td>\n",
       "      <td>NaN</td>\n",
       "    </tr>\n",
       "    <tr>\n",
       "      <th>4</th>\n",
       "      <td>ham</td>\n",
       "      <td>Nah I don't think he goes to usf, he lives aro...</td>\n",
       "      <td>NaN</td>\n",
       "      <td>NaN</td>\n",
       "      <td>NaN</td>\n",
       "    </tr>\n",
       "  </tbody>\n",
       "</table>\n",
       "</div>"
      ],
      "text/plain": [
       "     v1                                                 v2 Unnamed: 2  \\\n",
       "0   ham  Go until jurong point, crazy.. Available only ...        NaN   \n",
       "1   ham                      Ok lar... Joking wif u oni...        NaN   \n",
       "2  spam  Free entry in 2 a wkly comp to win FA Cup fina...        NaN   \n",
       "3   ham  U dun say so early hor... U c already then say...        NaN   \n",
       "4   ham  Nah I don't think he goes to usf, he lives aro...        NaN   \n",
       "\n",
       "  Unnamed: 3 Unnamed: 4  \n",
       "0        NaN        NaN  \n",
       "1        NaN        NaN  \n",
       "2        NaN        NaN  \n",
       "3        NaN        NaN  \n",
       "4        NaN        NaN  "
      ]
     },
     "execution_count": 37,
     "metadata": {},
     "output_type": "execute_result"
    }
   ],
   "source": [
    "import numpy as np\n",
    "import pandas as pd\n",
    "\n",
    "file_name = \"https://raw.githubusercontent.com/rajeevratan84/datascienceforbusiness/master/spam.csv\"\n",
    "data = pd.read_csv(file_name, encoding = \"latin-1\")\n",
    "data.head()"
   ]
  },
  {
   "cell_type": "markdown",
   "metadata": {
    "id": "CmE8BYli7M-n"
   },
   "source": [
    "Let's rename our columns to something a bit more interpretable and extract only the columns we need"
   ]
  },
  {
   "cell_type": "code",
   "execution_count": 38,
   "metadata": {
    "colab": {
     "base_uri": "https://localhost:8080/",
     "height": 195
    },
    "executionInfo": {
     "elapsed": 438,
     "status": "ok",
     "timestamp": 1604088270014,
     "user": {
      "displayName": "Rajeev Ratan",
      "photoUrl": "https://lh3.googleusercontent.com/a-/AOh14GhBYJnwdIGYSJdvGmzIt64rYSF1dDuiFyfRw4Rpeg=s64",
      "userId": "08597265227091462140"
     },
     "user_tz": 240
    },
    "id": "wAQsaFCp7Gpq",
    "outputId": "60dd4e23-eb40-4111-9a39-8e6309bd7f24"
   },
   "outputs": [
    {
     "data": {
      "text/html": [
       "<div>\n",
       "<style scoped>\n",
       "    .dataframe tbody tr th:only-of-type {\n",
       "        vertical-align: middle;\n",
       "    }\n",
       "\n",
       "    .dataframe tbody tr th {\n",
       "        vertical-align: top;\n",
       "    }\n",
       "\n",
       "    .dataframe thead th {\n",
       "        text-align: right;\n",
       "    }\n",
       "</style>\n",
       "<table border=\"1\" class=\"dataframe\">\n",
       "  <thead>\n",
       "    <tr style=\"text-align: right;\">\n",
       "      <th></th>\n",
       "      <th>label</th>\n",
       "      <th>text</th>\n",
       "    </tr>\n",
       "  </thead>\n",
       "  <tbody>\n",
       "    <tr>\n",
       "      <th>0</th>\n",
       "      <td>ham</td>\n",
       "      <td>Go until jurong point, crazy.. Available only ...</td>\n",
       "    </tr>\n",
       "    <tr>\n",
       "      <th>1</th>\n",
       "      <td>ham</td>\n",
       "      <td>Ok lar... Joking wif u oni...</td>\n",
       "    </tr>\n",
       "    <tr>\n",
       "      <th>2</th>\n",
       "      <td>spam</td>\n",
       "      <td>Free entry in 2 a wkly comp to win FA Cup fina...</td>\n",
       "    </tr>\n",
       "    <tr>\n",
       "      <th>3</th>\n",
       "      <td>ham</td>\n",
       "      <td>U dun say so early hor... U c already then say...</td>\n",
       "    </tr>\n",
       "    <tr>\n",
       "      <th>4</th>\n",
       "      <td>ham</td>\n",
       "      <td>Nah I don't think he goes to usf, he lives aro...</td>\n",
       "    </tr>\n",
       "  </tbody>\n",
       "</table>\n",
       "</div>"
      ],
      "text/plain": [
       "  label                                               text\n",
       "0   ham  Go until jurong point, crazy.. Available only ...\n",
       "1   ham                      Ok lar... Joking wif u oni...\n",
       "2  spam  Free entry in 2 a wkly comp to win FA Cup fina...\n",
       "3   ham  U dun say so early hor... U c already then say...\n",
       "4   ham  Nah I don't think he goes to usf, he lives aro..."
      ]
     },
     "execution_count": 38,
     "metadata": {},
     "output_type": "execute_result"
    }
   ],
   "source": [
    "data = data[['v1', 'v2']]\n",
    "data = data.rename(columns = {'v1': 'label', 'v2': 'text'})\n",
    "data.head()"
   ]
  },
  {
   "cell_type": "code",
   "execution_count": 39,
   "metadata": {
    "colab": {
     "base_uri": "https://localhost:8080/"
    },
    "executionInfo": {
     "elapsed": 430,
     "status": "ok",
     "timestamp": 1604088276649,
     "user": {
      "displayName": "Rajeev Ratan",
      "photoUrl": "https://lh3.googleusercontent.com/a-/AOh14GhBYJnwdIGYSJdvGmzIt64rYSF1dDuiFyfRw4Rpeg=s64",
      "userId": "08597265227091462140"
     },
     "user_tz": 240
    },
    "id": "MlbJqgpq7S9x",
    "outputId": "439c7aad-1cf3-4997-8d2e-6f02944af841"
   },
   "outputs": [
    {
     "data": {
      "text/plain": [
       "(5572, 2)"
      ]
     },
     "execution_count": 39,
     "metadata": {},
     "output_type": "execute_result"
    }
   ],
   "source": [
    "data.shape"
   ]
  },
  {
   "cell_type": "code",
   "execution_count": 40,
   "metadata": {
    "colab": {
     "base_uri": "https://localhost:8080/"
    },
    "executionInfo": {
     "elapsed": 454,
     "status": "ok",
     "timestamp": 1604088304997,
     "user": {
      "displayName": "Rajeev Ratan",
      "photoUrl": "https://lh3.googleusercontent.com/a-/AOh14GhBYJnwdIGYSJdvGmzIt64rYSF1dDuiFyfRw4Rpeg=s64",
      "userId": "08597265227091462140"
     },
     "user_tz": 240
    },
    "id": "jHDx4UEp7WFk",
    "outputId": "4227230e-7719-4241-851f-25e6e343ba48"
   },
   "outputs": [
    {
     "data": {
      "text/plain": [
       "array(['ham', 'spam'], dtype=object)"
      ]
     },
     "execution_count": 40,
     "metadata": {},
     "output_type": "execute_result"
    }
   ],
   "source": [
    "data.label.unique()"
   ]
  },
  {
   "cell_type": "code",
   "execution_count": 41,
   "metadata": {
    "colab": {
     "base_uri": "https://localhost:8080/"
    },
    "executionInfo": {
     "elapsed": 419,
     "status": "ok",
     "timestamp": 1604088355780,
     "user": {
      "displayName": "Rajeev Ratan",
      "photoUrl": "https://lh3.googleusercontent.com/a-/AOh14GhBYJnwdIGYSJdvGmzIt64rYSF1dDuiFyfRw4Rpeg=s64",
      "userId": "08597265227091462140"
     },
     "user_tz": 240
    },
    "id": "6dC6tPkP7YMb",
    "outputId": "951f4514-c5d8-4788-f8d8-86b354c82973"
   },
   "outputs": [
    {
     "data": {
      "text/plain": [
       "label    0.0\n",
       "text     0.0\n",
       "dtype: float64"
      ]
     },
     "execution_count": 41,
     "metadata": {},
     "output_type": "execute_result"
    }
   ],
   "source": [
    "# percentage of missing values in each column\n",
    "round(100 * (data.isnull().sum()/len(data)),2).sort_values(ascending=False)"
   ]
  },
  {
   "cell_type": "code",
   "execution_count": 42,
   "metadata": {
    "colab": {
     "base_uri": "https://localhost:8080/",
     "height": 195
    },
    "executionInfo": {
     "elapsed": 423,
     "status": "ok",
     "timestamp": 1604088365249,
     "user": {
      "displayName": "Rajeev Ratan",
      "photoUrl": "https://lh3.googleusercontent.com/a-/AOh14GhBYJnwdIGYSJdvGmzIt64rYSF1dDuiFyfRw4Rpeg=s64",
      "userId": "08597265227091462140"
     },
     "user_tz": 240
    },
    "id": "v0DDdmpLAQZp",
    "outputId": "8b1ca0fe-d7fe-480a-8a74-d48c0ac0ecfb"
   },
   "outputs": [
    {
     "data": {
      "text/html": [
       "<div>\n",
       "<style scoped>\n",
       "    .dataframe tbody tr th:only-of-type {\n",
       "        vertical-align: middle;\n",
       "    }\n",
       "\n",
       "    .dataframe tbody tr th {\n",
       "        vertical-align: top;\n",
       "    }\n",
       "\n",
       "    .dataframe thead th {\n",
       "        text-align: right;\n",
       "    }\n",
       "</style>\n",
       "<table border=\"1\" class=\"dataframe\">\n",
       "  <thead>\n",
       "    <tr style=\"text-align: right;\">\n",
       "      <th></th>\n",
       "      <th>label</th>\n",
       "      <th>text</th>\n",
       "    </tr>\n",
       "  </thead>\n",
       "  <tbody>\n",
       "    <tr>\n",
       "      <th>0</th>\n",
       "      <td>ham</td>\n",
       "      <td>Go until jurong point, crazy.. Available only ...</td>\n",
       "    </tr>\n",
       "    <tr>\n",
       "      <th>1</th>\n",
       "      <td>ham</td>\n",
       "      <td>Ok lar... Joking wif u oni...</td>\n",
       "    </tr>\n",
       "    <tr>\n",
       "      <th>2</th>\n",
       "      <td>spam</td>\n",
       "      <td>Free entry in 2 a wkly comp to win FA Cup fina...</td>\n",
       "    </tr>\n",
       "    <tr>\n",
       "      <th>3</th>\n",
       "      <td>ham</td>\n",
       "      <td>U dun say so early hor... U c already then say...</td>\n",
       "    </tr>\n",
       "    <tr>\n",
       "      <th>4</th>\n",
       "      <td>ham</td>\n",
       "      <td>Nah I don't think he goes to usf, he lives aro...</td>\n",
       "    </tr>\n",
       "  </tbody>\n",
       "</table>\n",
       "</div>"
      ],
      "text/plain": [
       "  label                                               text\n",
       "0   ham  Go until jurong point, crazy.. Available only ...\n",
       "1   ham                      Ok lar... Joking wif u oni...\n",
       "2  spam  Free entry in 2 a wkly comp to win FA Cup fina...\n",
       "3   ham  U dun say so early hor... U c already then say...\n",
       "4   ham  Nah I don't think he goes to usf, he lives aro..."
      ]
     },
     "execution_count": 42,
     "metadata": {},
     "output_type": "execute_result"
    }
   ],
   "source": [
    "data.head()"
   ]
  },
  {
   "cell_type": "code",
   "execution_count": 43,
   "metadata": {
    "colab": {
     "base_uri": "https://localhost:8080/",
     "height": 402
    },
    "executionInfo": {
     "elapsed": 448,
     "status": "ok",
     "timestamp": 1604088393584,
     "user": {
      "displayName": "Rajeev Ratan",
      "photoUrl": "https://lh3.googleusercontent.com/a-/AOh14GhBYJnwdIGYSJdvGmzIt64rYSF1dDuiFyfRw4Rpeg=s64",
      "userId": "08597265227091462140"
     },
     "user_tz": 240
    },
    "id": "1jZjjF2DApTD",
    "outputId": "32e78bae-8d83-4c0f-9efa-88c43b23adb5"
   },
   "outputs": [
    {
     "data": {
      "text/html": [
       "<div>\n",
       "<style scoped>\n",
       "    .dataframe tbody tr th:only-of-type {\n",
       "        vertical-align: middle;\n",
       "    }\n",
       "\n",
       "    .dataframe tbody tr th {\n",
       "        vertical-align: top;\n",
       "    }\n",
       "\n",
       "    .dataframe thead th {\n",
       "        text-align: right;\n",
       "    }\n",
       "</style>\n",
       "<table border=\"1\" class=\"dataframe\">\n",
       "  <thead>\n",
       "    <tr style=\"text-align: right;\">\n",
       "      <th></th>\n",
       "      <th>label</th>\n",
       "      <th>text</th>\n",
       "    </tr>\n",
       "  </thead>\n",
       "  <tbody>\n",
       "    <tr>\n",
       "      <th>102</th>\n",
       "      <td>ham</td>\n",
       "      <td>As per your request 'Melle Melle (Oru Minnamin...</td>\n",
       "    </tr>\n",
       "    <tr>\n",
       "      <th>153</th>\n",
       "      <td>ham</td>\n",
       "      <td>As per your request 'Melle Melle (Oru Minnamin...</td>\n",
       "    </tr>\n",
       "    <tr>\n",
       "      <th>206</th>\n",
       "      <td>ham</td>\n",
       "      <td>As I entered my cabin my PA said, '' Happy B'd...</td>\n",
       "    </tr>\n",
       "    <tr>\n",
       "      <th>222</th>\n",
       "      <td>ham</td>\n",
       "      <td>Sorry, I'll call later</td>\n",
       "    </tr>\n",
       "    <tr>\n",
       "      <th>325</th>\n",
       "      <td>ham</td>\n",
       "      <td>No calls..messages..missed calls</td>\n",
       "    </tr>\n",
       "    <tr>\n",
       "      <th>...</th>\n",
       "      <td>...</td>\n",
       "      <td>...</td>\n",
       "    </tr>\n",
       "    <tr>\n",
       "      <th>5524</th>\n",
       "      <td>spam</td>\n",
       "      <td>You are awarded a SiPix Digital Camera! call 0...</td>\n",
       "    </tr>\n",
       "    <tr>\n",
       "      <th>5535</th>\n",
       "      <td>ham</td>\n",
       "      <td>I know you are thinkin malaria. But relax, chi...</td>\n",
       "    </tr>\n",
       "    <tr>\n",
       "      <th>5539</th>\n",
       "      <td>ham</td>\n",
       "      <td>Just sleeping..and surfing</td>\n",
       "    </tr>\n",
       "    <tr>\n",
       "      <th>5553</th>\n",
       "      <td>ham</td>\n",
       "      <td>Hahaha..use your brain dear</td>\n",
       "    </tr>\n",
       "    <tr>\n",
       "      <th>5558</th>\n",
       "      <td>ham</td>\n",
       "      <td>Sorry, I'll call later</td>\n",
       "    </tr>\n",
       "  </tbody>\n",
       "</table>\n",
       "<p>403 rows × 2 columns</p>\n",
       "</div>"
      ],
      "text/plain": [
       "     label                                               text\n",
       "102    ham  As per your request 'Melle Melle (Oru Minnamin...\n",
       "153    ham  As per your request 'Melle Melle (Oru Minnamin...\n",
       "206    ham  As I entered my cabin my PA said, '' Happy B'd...\n",
       "222    ham                             Sorry, I'll call later\n",
       "325    ham                   No calls..messages..missed calls\n",
       "...    ...                                                ...\n",
       "5524  spam  You are awarded a SiPix Digital Camera! call 0...\n",
       "5535   ham  I know you are thinkin malaria. But relax, chi...\n",
       "5539   ham                         Just sleeping..and surfing\n",
       "5553   ham                        Hahaha..use your brain dear\n",
       "5558   ham                             Sorry, I'll call later\n",
       "\n",
       "[403 rows x 2 columns]"
      ]
     },
     "execution_count": 43,
     "metadata": {},
     "output_type": "execute_result"
    }
   ],
   "source": [
    "data[data[['label', 'text']].duplicated() == True]"
   ]
  },
  {
   "cell_type": "code",
   "execution_count": 44,
   "metadata": {
    "executionInfo": {
     "elapsed": 396,
     "status": "ok",
     "timestamp": 1604088441929,
     "user": {
      "displayName": "Rajeev Ratan",
      "photoUrl": "https://lh3.googleusercontent.com/a-/AOh14GhBYJnwdIGYSJdvGmzIt64rYSF1dDuiFyfRw4Rpeg=s64",
      "userId": "08597265227091462140"
     },
     "user_tz": 240
    },
    "id": "xNvFhxE-BCJj"
   },
   "outputs": [],
   "source": [
    "data = data.drop_duplicates()"
   ]
  },
  {
   "cell_type": "code",
   "execution_count": 45,
   "metadata": {
    "colab": {
     "base_uri": "https://localhost:8080/",
     "height": 47
    },
    "executionInfo": {
     "elapsed": 417,
     "status": "ok",
     "timestamp": 1604088445712,
     "user": {
      "displayName": "Rajeev Ratan",
      "photoUrl": "https://lh3.googleusercontent.com/a-/AOh14GhBYJnwdIGYSJdvGmzIt64rYSF1dDuiFyfRw4Rpeg=s64",
      "userId": "08597265227091462140"
     },
     "user_tz": 240
    },
    "id": "_3c3YMohBFvu",
    "outputId": "dd2c0e1a-56cc-4263-d472-c24482ef9b9b"
   },
   "outputs": [
    {
     "data": {
      "text/html": [
       "<div>\n",
       "<style scoped>\n",
       "    .dataframe tbody tr th:only-of-type {\n",
       "        vertical-align: middle;\n",
       "    }\n",
       "\n",
       "    .dataframe tbody tr th {\n",
       "        vertical-align: top;\n",
       "    }\n",
       "\n",
       "    .dataframe thead th {\n",
       "        text-align: right;\n",
       "    }\n",
       "</style>\n",
       "<table border=\"1\" class=\"dataframe\">\n",
       "  <thead>\n",
       "    <tr style=\"text-align: right;\">\n",
       "      <th></th>\n",
       "      <th>label</th>\n",
       "      <th>text</th>\n",
       "    </tr>\n",
       "  </thead>\n",
       "  <tbody>\n",
       "  </tbody>\n",
       "</table>\n",
       "</div>"
      ],
      "text/plain": [
       "Empty DataFrame\n",
       "Columns: [label, text]\n",
       "Index: []"
      ]
     },
     "execution_count": 45,
     "metadata": {},
     "output_type": "execute_result"
    }
   ],
   "source": [
    "# Sanity Check to make sure it worked\n",
    "data[data[['label', 'text']].duplicated() == True]"
   ]
  },
  {
   "cell_type": "code",
   "execution_count": 46,
   "metadata": {
    "colab": {
     "base_uri": "https://localhost:8080/"
    },
    "executionInfo": {
     "elapsed": 442,
     "status": "ok",
     "timestamp": 1604088450082,
     "user": {
      "displayName": "Rajeev Ratan",
      "photoUrl": "https://lh3.googleusercontent.com/a-/AOh14GhBYJnwdIGYSJdvGmzIt64rYSF1dDuiFyfRw4Rpeg=s64",
      "userId": "08597265227091462140"
     },
     "user_tz": 240
    },
    "id": "6mt-LeoPBGK5",
    "outputId": "59fc2263-b3f0-4388-e558-8a58d5ba24f2"
   },
   "outputs": [
    {
     "data": {
      "text/plain": [
       "(5169, 2)"
      ]
     },
     "execution_count": 46,
     "metadata": {},
     "output_type": "execute_result"
    }
   ],
   "source": [
    "data.shape"
   ]
  },
  {
   "cell_type": "markdown",
   "metadata": {
    "id": "PGg8y-AeGLFR"
   },
   "source": [
    "#### Simple plot of out class label counts"
   ]
  },
  {
   "cell_type": "code",
   "execution_count": 47,
   "metadata": {
    "colab": {
     "base_uri": "https://localhost:8080/",
     "height": 300
    },
    "executionInfo": {
     "elapsed": 452,
     "status": "ok",
     "timestamp": 1604088488958,
     "user": {
      "displayName": "Rajeev Ratan",
      "photoUrl": "https://lh3.googleusercontent.com/a-/AOh14GhBYJnwdIGYSJdvGmzIt64rYSF1dDuiFyfRw4Rpeg=s64",
      "userId": "08597265227091462140"
     },
     "user_tz": 240
    },
    "id": "TWepXCBMFvyE",
    "outputId": "2616257d-8209-445e-f3fb-2a1660638ff1"
   },
   "outputs": [
    {
     "data": {
      "text/plain": [
       "<AxesSubplot:>"
      ]
     },
     "execution_count": 47,
     "metadata": {},
     "output_type": "execute_result"
    },
    {
     "data": {
      "image/png": "[encoded data removed]",
      "text/plain": [
       "<Figure size 640x480 with 1 Axes>"
      ]
     },
     "metadata": {},
     "output_type": "display_data"
    }
   ],
   "source": [
    "data.label.value_counts().plot(kind=\"bar\")"
   ]
  },
  {
   "cell_type": "markdown",
   "metadata": {
    "id": "_TQEep49BawL"
   },
   "source": [
    "# 2. Building our Spam/Ham Classifer"
   ]
  },
  {
   "cell_type": "code",
   "execution_count": 48,
   "metadata": {
    "executionInfo": {
     "elapsed": 436,
     "status": "ok",
     "timestamp": 1604089053419,
     "user": {
      "displayName": "Rajeev Ratan",
      "photoUrl": "https://lh3.googleusercontent.com/a-/AOh14GhBYJnwdIGYSJdvGmzIt64rYSF1dDuiFyfRw4Rpeg=s64",
      "userId": "08597265227091462140"
     },
     "user_tz": 240
    },
    "id": "7H_Uz4xMsWBu"
   },
   "outputs": [],
   "source": [
    "from sklearn.model_selection import train_test_split\n",
    "from sklearn.feature_extraction.text import TfidfVectorizer\n",
    "from sklearn import svm\n",
    "from sklearn.metrics import confusion_matrix\n",
    "from sklearn.metrics import accuracy_score\n",
    "\n",
    "def review_messages(msg):\n",
    "    # converting messages to lowercase\n",
    "    msg = msg.lower()\n",
    "    return msg"
   ]
  },
  {
   "cell_type": "code",
   "execution_count": 49,
   "metadata": {
    "executionInfo": {
     "elapsed": 430,
     "status": "ok",
     "timestamp": 1604089920363,
     "user": {
      "displayName": "Rajeev Ratan",
      "photoUrl": "https://lh3.googleusercontent.com/a-/AOh14GhBYJnwdIGYSJdvGmzIt64rYSF1dDuiFyfRw4Rpeg=s64",
      "userId": "08597265227091462140"
     },
     "user_tz": 240
    },
    "id": "bNeYbeGnsYu_"
   },
   "outputs": [],
   "source": [
    "# Processing text messages\n",
    "data['text'] = data['text'].apply(review_messages)"
   ]
  },
  {
   "cell_type": "code",
   "execution_count": 50,
   "metadata": {
    "colab": {
     "base_uri": "https://localhost:8080/",
     "height": 402
    },
    "executionInfo": {
     "elapsed": 437,
     "status": "ok",
     "timestamp": 1604089926505,
     "user": {
      "displayName": "Rajeev Ratan",
      "photoUrl": "https://lh3.googleusercontent.com/a-/AOh14GhBYJnwdIGYSJdvGmzIt64rYSF1dDuiFyfRw4Rpeg=s64",
      "userId": "08597265227091462140"
     },
     "user_tz": 240
    },
    "id": "3GzYboQPBv4K",
    "outputId": "4df24998-e259-4e53-f839-e540799027af"
   },
   "outputs": [
    {
     "data": {
      "text/html": [
       "<div>\n",
       "<style scoped>\n",
       "    .dataframe tbody tr th:only-of-type {\n",
       "        vertical-align: middle;\n",
       "    }\n",
       "\n",
       "    .dataframe tbody tr th {\n",
       "        vertical-align: top;\n",
       "    }\n",
       "\n",
       "    .dataframe thead th {\n",
       "        text-align: right;\n",
       "    }\n",
       "</style>\n",
       "<table border=\"1\" class=\"dataframe\">\n",
       "  <thead>\n",
       "    <tr style=\"text-align: right;\">\n",
       "      <th></th>\n",
       "      <th>label</th>\n",
       "      <th>text</th>\n",
       "    </tr>\n",
       "  </thead>\n",
       "  <tbody>\n",
       "    <tr>\n",
       "      <th>0</th>\n",
       "      <td>ham</td>\n",
       "      <td>go until jurong point, crazy.. available only ...</td>\n",
       "    </tr>\n",
       "    <tr>\n",
       "      <th>1</th>\n",
       "      <td>ham</td>\n",
       "      <td>ok lar... joking wif u oni...</td>\n",
       "    </tr>\n",
       "    <tr>\n",
       "      <th>2</th>\n",
       "      <td>spam</td>\n",
       "      <td>free entry in 2 a wkly comp to win fa cup fina...</td>\n",
       "    </tr>\n",
       "    <tr>\n",
       "      <th>3</th>\n",
       "      <td>ham</td>\n",
       "      <td>u dun say so early hor... u c already then say...</td>\n",
       "    </tr>\n",
       "    <tr>\n",
       "      <th>4</th>\n",
       "      <td>ham</td>\n",
       "      <td>nah i don't think he goes to usf, he lives aro...</td>\n",
       "    </tr>\n",
       "    <tr>\n",
       "      <th>...</th>\n",
       "      <td>...</td>\n",
       "      <td>...</td>\n",
       "    </tr>\n",
       "    <tr>\n",
       "      <th>5567</th>\n",
       "      <td>spam</td>\n",
       "      <td>this is the 2nd time we have tried 2 contact u...</td>\n",
       "    </tr>\n",
       "    <tr>\n",
       "      <th>5568</th>\n",
       "      <td>ham</td>\n",
       "      <td>will ì_ b going to esplanade fr home?</td>\n",
       "    </tr>\n",
       "    <tr>\n",
       "      <th>5569</th>\n",
       "      <td>ham</td>\n",
       "      <td>pity, * was in mood for that. so...any other s...</td>\n",
       "    </tr>\n",
       "    <tr>\n",
       "      <th>5570</th>\n",
       "      <td>ham</td>\n",
       "      <td>the guy did some bitching but i acted like i'd...</td>\n",
       "    </tr>\n",
       "    <tr>\n",
       "      <th>5571</th>\n",
       "      <td>ham</td>\n",
       "      <td>rofl. its true to its name</td>\n",
       "    </tr>\n",
       "  </tbody>\n",
       "</table>\n",
       "<p>5169 rows × 2 columns</p>\n",
       "</div>"
      ],
      "text/plain": [
       "     label                                               text\n",
       "0      ham  go until jurong point, crazy.. available only ...\n",
       "1      ham                      ok lar... joking wif u oni...\n",
       "2     spam  free entry in 2 a wkly comp to win fa cup fina...\n",
       "3      ham  u dun say so early hor... u c already then say...\n",
       "4      ham  nah i don't think he goes to usf, he lives aro...\n",
       "...    ...                                                ...\n",
       "5567  spam  this is the 2nd time we have tried 2 contact u...\n",
       "5568   ham              will ì_ b going to esplanade fr home?\n",
       "5569   ham  pity, * was in mood for that. so...any other s...\n",
       "5570   ham  the guy did some bitching but i acted like i'd...\n",
       "5571   ham                         rofl. its true to its name\n",
       "\n",
       "[5169 rows x 2 columns]"
      ]
     },
     "execution_count": 50,
     "metadata": {},
     "output_type": "execute_result"
    }
   ],
   "source": [
    "# Inspect the changes on our data\n",
    "data"
   ]
  },
  {
   "cell_type": "markdown",
   "metadata": {
    "id": "HV3oLOS3EknZ"
   },
   "source": [
    "### Preparing our data"
   ]
  },
  {
   "cell_type": "code",
   "execution_count": 51,
   "metadata": {
    "id": "O8rip9YuK0-d"
   },
   "outputs": [],
   "source": [
    "# train test split \n",
    "X_train, X_test, y_train, y_test = train_test_split(data['text'], data['label'], test_size = 0.1, random_state = 1)"
   ]
  },
  {
   "cell_type": "code",
   "execution_count": 52,
   "metadata": {
    "executionInfo": {
     "elapsed": 445,
     "status": "ok",
     "timestamp": 1604089090380,
     "user": {
      "displayName": "Rajeev Ratan",
      "photoUrl": "https://lh3.googleusercontent.com/a-/AOh14GhBYJnwdIGYSJdvGmzIt64rYSF1dDuiFyfRw4Rpeg=s64",
      "userId": "08597265227091462140"
     },
     "user_tz": 240
    },
    "id": "FF2dHCXQsM4F"
   },
   "outputs": [],
   "source": [
    "from sklearn.feature_extraction.text import TfidfVectorizer\n",
    "# training vectorizer\n",
    "vectorizer = TfidfVectorizer()\n",
    "X_train_vec = vectorizer.fit_transform(X_train)"
   ]
  },
  {
   "cell_type": "markdown",
   "metadata": {
    "id": "nAjZPVJxKuXm"
   },
   "source": [
    "![](https://miro.medium.com/max/3604/0*56JnM18OAx1lhIQb.png)"
   ]
  },
  {
   "cell_type": "markdown",
   "metadata": {
    "id": "-fvn-5phK3tI"
   },
   "source": [
    "### Training our model"
   ]
  },
  {
   "cell_type": "code",
   "execution_count": 53,
   "metadata": {
    "colab": {
     "base_uri": "https://localhost:8080/"
    },
    "executionInfo": {
     "elapsed": 2521,
     "status": "ok",
     "timestamp": 1604090095697,
     "user": {
      "displayName": "Rajeev Ratan",
      "photoUrl": "https://lh3.googleusercontent.com/a-/AOh14GhBYJnwdIGYSJdvGmzIt64rYSF1dDuiFyfRw4Rpeg=s64",
      "userId": "08597265227091462140"
     },
     "user_tz": 240
    },
    "id": "uPlaxorAsa2E",
    "outputId": "162eb9ac-67b7-4531-fb1c-6ec84685e098"
   },
   "outputs": [
    {
     "data": {
      "text/plain": [
       "SVC(C=1000)"
      ]
     },
     "execution_count": 53,
     "metadata": {},
     "output_type": "execute_result"
    }
   ],
   "source": [
    "from sklearn import svm\n",
    "# training the classifier \n",
    "svm = svm.SVC(C=1000)\n",
    "svm.fit(X_train_vec, y_train)"
   ]
  },
  {
   "cell_type": "code",
   "execution_count": 54,
   "metadata": {
    "colab": {
     "base_uri": "https://localhost:8080/"
    },
    "executionInfo": {
     "elapsed": 640,
     "status": "ok",
     "timestamp": 1604090137485,
     "user": {
      "displayName": "Rajeev Ratan",
      "photoUrl": "https://lh3.googleusercontent.com/a-/AOh14GhBYJnwdIGYSJdvGmzIt64rYSF1dDuiFyfRw4Rpeg=s64",
      "userId": "08597265227091462140"
     },
     "user_tz": 240
    },
    "id": "icHBwnywscLX",
    "outputId": "e0623c40-00f6-467a-d431-08f20bf31c8b"
   },
   "outputs": [
    {
     "name": "stdout",
     "output_type": "stream",
     "text": [
      "We have an accuracy of: 0.9845261121856866\n",
      "[[462   0]\n",
      " [  8  47]]\n"
     ]
    }
   ],
   "source": [
    "# testing against testing set \n",
    "X_test = vectorizer.transform(X_test)\n",
    "y_pred = svm.predict(X_test) \n",
    "\n",
    "print(\"We have an accuracy of: \" + str(accuracy_score(y_test,y_pred)))\n",
    "print(confusion_matrix(y_test, y_pred))\n",
    "#y_test and y_pred store which are spam or ham\n",
    "#vectorized data matrix store in which email, which word's tfidf"
   ]
  },
  {
   "cell_type": "markdown",
   "metadata": {
    "id": "9_Jt_cMID8Qb"
   },
   "source": [
    "### Predict where your text is Spam or Ham"
   ]
  },
  {
   "cell_type": "code",
   "execution_count": 55,
   "metadata": {
    "executionInfo": {
     "elapsed": 590,
     "status": "ok",
     "timestamp": 1604087452967,
     "user": {
      "displayName": "Rajeev Ratan",
      "photoUrl": "https://lh3.googleusercontent.com/a-/AOh14GhBYJnwdIGYSJdvGmzIt64rYSF1dDuiFyfRw4Rpeg=s64",
      "userId": "08597265227091462140"
     },
     "user_tz": 240
    },
    "id": "u0Qpz_S0sdJ9"
   },
   "outputs": [],
   "source": [
    "# test against new messages \n",
    "def pred(msg):\n",
    "    msg = vectorizer.transform([msg])\n",
    "    prediction = svm.predict(msg)\n",
    "    return prediction[0]"
   ]
  },
  {
   "cell_type": "code",
   "execution_count": 56,
   "metadata": {
    "colab": {
     "base_uri": "https://localhost:8080/"
    },
    "executionInfo": {
     "elapsed": 422,
     "status": "ok",
     "timestamp": 1604090252832,
     "user": {
      "displayName": "Rajeev Ratan",
      "photoUrl": "https://lh3.googleusercontent.com/a-/AOh14GhBYJnwdIGYSJdvGmzIt64rYSF1dDuiFyfRw4Rpeg=s64",
      "userId": "08597265227091462140"
     },
     "user_tz": 240
    },
    "id": "E6O7v-wnrdcq",
    "outputId": "2e647d05-2350-466a-980a-61ad06ae93ff"
   },
   "outputs": [
    {
     "name": "stdout",
     "output_type": "stream",
     "text": [
      "unfortunately i've just found out that we have to pick my sister up from the airport that evening so don't think i'll be going out at all. we should try to go out one of th\n",
      "Text is - ham\n",
      "\n",
      "mm yes dear look how i am hugging you both. :-p\n",
      "Text is - ham\n",
      "\n",
      "\\getting tickets 4 walsall tue 6 th march. my mate is getting me them on sat. ill pay my treat. want 2 go. txt bak .terry\\\"\"\n",
      "Text is - ham\n",
      "\n",
      "i'm done. c ì_ there.\n",
      "Text is - ham\n",
      "\n",
      "hi baby im cruisin with my girl friend what r u up 2? give me a call in and hour at home if thats alright or fone me on this fone now love jenny xxx\n",
      "Text is - ham\n",
      "\n",
      "not a drop in the tank\n",
      "Text is - ham\n",
      "\n",
      "do have a nice day today. i love you so dearly.\n",
      "Text is - ham\n",
      "\n",
      "fffff. can you text kadeem or are you too far gone\n",
      "Text is - ham\n",
      "\n",
      "excellent. i spent  &lt;#&gt;  years in the air force. iraq and afghanistan. i am stable and honest. do you like traveling?\n",
      "Text is - ham\n",
      "\n",
      "leaving to qatar tonite in search of an opportunity.all went fast.pls add me in ur prayers dear.rakhesh\n",
      "Text is - ham\n",
      "\n"
     ]
    }
   ],
   "source": [
    "for i in range(0, 10):\n",
    "  rand_index = np.random.randint(0, len(data))\n",
    "  test_sample = data.iloc[rand_index][1]\n",
    "\n",
    "  print(test_sample)\n",
    "  print(\"Text is - \" + str(pred(test_sample)) +\"\\n\")"
   ]
  },
  {
   "cell_type": "code",
   "execution_count": 64,
   "metadata": {
    "id": "BeooG7UgDym5",
    "scrolled": true
   },
   "outputs": [
    {
     "name": "stderr",
     "output_type": "stream",
     "text": [
      "C:\\Users\\22600\\anaconda\\lib\\site-packages\\sklearn\\utils\\deprecation.py:87: FutureWarning: Function get_feature_names is deprecated; get_feature_names is deprecated in 1.0 and will be removed in 1.2. Please use get_feature_names_out instead.\n",
      "  warnings.warn(msg, category=FutureWarning)\n"
     ]
    },
    {
     "name": "stdout",
     "output_type": "stream",
     "text": [
      "Top spam features: ['txt', 'uk', 'service', 'www', 'claim', '50', '150p', 'mobile', 'ringtone', 'reply', '88066', 'com', 'dating', 'ac', 'stop', 'http', 'prize', '07090201529', '18', '146tf150p']\n",
      "Top ham features: ['liked', 'll', 'fullonsms', 'did', 'said', 'mail', 'way', 'later', 'ok', 'gt', 'yup', 'lt', 'home', 'da', 'morning', 'hey', 'doesnt', 'knowing', 'bak', 'bus']\n"
     ]
    },
    {
     "data": {
      "image/png": "[encoded data removed]",
      "text/plain": [
       "<Figure size 600x300 with 1 Axes>"
      ]
     },
     "metadata": {},
     "output_type": "display_data"
    },
    {
     "name": "stdout",
     "output_type": "stream",
     "text": [
      "time cost 0.5471034049987793\n"
     ]
    }
   ],
   "source": [
    "from sklearn.svm import LinearSVC\n",
    "import pandas as pd\n",
    "from sklearn.feature_extraction.text import CountVectorizer, TfidfVectorizer\n",
    "from wordcloud import WordCloud\n",
    "import matplotlib.pyplot as plt\n",
    "\n",
    "\n",
    "import time\n",
    "\n",
    "time_start = time.time()\n",
    "\n",
    "# Load the data\n",
    "df = data\n",
    "\n",
    "# Split the data into training and testing sets\n",
    "train = df.sample(frac=0.8, random_state=42)\n",
    "test = df.drop(train.index)\n",
    "\n",
    "# Preprocess the data\n",
    "vectorizer = TfidfVectorizer(stop_words='english', max_features=10000)\n",
    "X_train = vectorizer.fit_transform(train['text'])\n",
    "X_test = vectorizer.transform(test['text'])\n",
    "y_train = train['label']\n",
    "y_test = test['label']\n",
    "\n",
    "# Train an SVM classifier\n",
    "svm = LinearSVC()\n",
    "svm.fit(X_train, y_train)\n",
    "\n",
    "# Get the feature importance\n",
    "feature_importance = svm.coef_[0]\n",
    "\n",
    "# Get the feature names from the vectorizer\n",
    "feature_names = vectorizer.get_feature_names()\n",
    "\n",
    "# Sort the feature importance in descending order and get the top 20 features\n",
    "top_spam_features = [feature_names[i] for i in feature_importance.argsort()[::-1][:20]]\n",
    "top_ham_features = [feature_names[i] for i in feature_importance.argsort()[:20]]\n",
    "\n",
    "top_coeffs = pd.DataFrame({'spam': top_spam_features, 'ham': top_ham_features})\n",
    "\n",
    "\n",
    "# Print the top spam and ham features\n",
    "print('Top spam features:', top_spam_features)\n",
    "print('Top ham features:', top_ham_features)\n",
    "\n",
    "# Generate the word cloud\n",
    "wc = WordCloud(width=600, height=300, background_color='white', max_words=30, stopwords=vectorizer.get_stop_words()).generate_from_frequencies(\n",
    "    {word: freq/feature_importance.max() for word, freq in zip(vectorizer.get_feature_names(), feature_importance)}\n",
    ")\n",
    "plt.figure(figsize=(6, 3))\n",
    "plt.imshow(wc, interpolation='bilinear')\n",
    "plt.axis('off')\n",
    "plt.show()\n",
    "\n",
    "time_end = time.time()\n",
    "print('time cost',time_end-time_start)\n"
   ]
  },
  {
   "cell_type": "code",
   "execution_count": 58,
   "metadata": {},
   "outputs": [
    {
     "name": "stdout",
     "output_type": "stream",
     "text": [
      "           spam        ham\n",
      "0           txt      liked\n",
      "1            uk         ll\n",
      "2       service  fullonsms\n",
      "3           www        did\n",
      "4         claim       said\n",
      "5            50       mail\n",
      "6          150p        way\n",
      "7        mobile      later\n",
      "8      ringtone         ok\n",
      "9         reply         gt\n",
      "10        88066        yup\n",
      "11          com         lt\n",
      "12       dating       home\n",
      "13           ac         da\n",
      "14         stop    morning\n",
      "15         http        hey\n",
      "16        prize     doesnt\n",
      "17  07090201529    knowing\n",
      "18           18        bak\n",
      "19    146tf150p        bus\n"
     ]
    }
   ],
   "source": [
    "top_coeffs = pd.DataFrame({'spam': top_spam_features, 'ham': top_ham_features})\n",
    "print(top_coeffs)"
   ]
  },
  {
   "cell_type": "code",
   "execution_count": 59,
   "metadata": {},
   "outputs": [
    {
     "name": "stdout",
     "output_type": "stream",
     "text": [
      "Cross-validation scores: [0.97755862 0.94424072 0.94777058 0.94852136 0.94343545 0.94260232\n",
      " 0.93303604 0.95353394 0.9590495  0.92876011]\n",
      "Mean F1 score: 0.947850866020844\n",
      "Standard deviation of F1 score: 0.012979697729440095\n",
      "scores_recall: [0.93846154 0.84615385 0.83076923 0.84615385 0.83076923 0.81538462\n",
      " 0.78787879 0.84848485 0.87878788 0.8       ]\n",
      "Mean recall score: 0.8422843822843824\n",
      "Standard deviation of recall score: 0.04048169275805618\n",
      "scores_precision: [0.98387097 0.96491228 1.         0.98214286 0.98181818 1.\n",
      " 1.         1.         0.98305085 0.96296296]\n",
      "Mean precision score: 0.9858758097825321\n",
      "Standard deviation of precision score: 0.013434426604609995\n"
     ]
    }
   ],
   "source": [
    "from sklearn.model_selection import cross_val_score\n",
    "from sklearn.metrics import make_scorer, recall_score\n",
    "from sklearn.metrics import precision_score\n",
    "\n",
    "# Define SVM model with best hyperparameters\n",
    "svm_model = LinearSVC()\n",
    "\n",
    "X = vectorizer.fit_transform(data['text'])\n",
    "y = data['label']\n",
    "\n",
    "# Perform 10-fold cross-validation\n",
    "scores = cross_val_score(svm_model, X, y, cv=10, scoring='f1_macro')\n",
    "\n",
    "# Print cross-validation scores\n",
    "print('Cross-validation scores:', scores)\n",
    "\n",
    "# Print mean and standard deviation of cross-validation scores\n",
    "print('Mean F1 score:', np.mean(scores))\n",
    "print('Standard deviation of F1 score:', np.std(scores))\n",
    "\n",
    "scoring_recall = make_scorer(recall_score, pos_label='spam')\n",
    "scores_recall = cross_val_score(svm_model, X, y, cv=10, scoring=scoring_recall)\n",
    "print('scores_recall:', scores_recall)\n",
    "print('Mean recall score:', np.mean(scores_recall))\n",
    "print('Standard deviation of recall score:', np.std(scores_recall))\n",
    "\n",
    "scoring_precision = make_scorer(precision_score, pos_label='spam')\n",
    "scores_precision = cross_val_score(svm_model, X, y, cv=10, scoring=scoring_precision)\n",
    "print('scores_precision:', scores_precision)\n",
    "print('Mean precision score:', np.mean(scores_precision))\n",
    "print('Standard deviation of precision score:', np.std(scores_precision))"
   ]
  },
  {
   "cell_type": "code",
   "execution_count": 63,
   "metadata": {},
   "outputs": [
    {
     "name": "stdout",
     "output_type": "stream",
     "text": [
      "Mean F1 score: 0.947850866020844\n",
      "Standard deviation of F1 score: 0.012979697729440095\n",
      "Mean recall score: 0.8422843822843824\n",
      "Standard deviation of recall score: 0.04048169275805618\n",
      "Mean precision score: 0.9858758097825321\n",
      "Standard deviation of precision score: 0.013434426604609995\n"
     ]
    }
   ],
   "source": [
    "from sklearn.model_selection import cross_val_score\n",
    "from sklearn.metrics import make_scorer, recall_score\n",
    "from sklearn.metrics import precision_score\n",
    "\n",
    "# Define SVM model with best hyperparameters\n",
    "svm_model = LinearSVC()\n",
    "\n",
    "X = vectorizer.fit_transform(data['text'])\n",
    "y = data['label']\n",
    "\n",
    "# Perform 10-fold cross-validation\n",
    "scores = cross_val_score(svm_model, X, y, cv=10, scoring='f1_macro')\n",
    "\n",
    "# Print cross-validation scores\n",
    "# Print mean and standard deviation of cross-validation scores\n",
    "print('Mean F1 score:', np.mean(scores))\n",
    "print('Standard deviation of F1 score:', np.std(scores))\n",
    "\n",
    "scoring_recall = make_scorer(recall_score, pos_label='spam')\n",
    "scores_recall = cross_val_score(svm_model, X, y, cv=10, scoring=scoring_recall)\n",
    "print('Mean recall score:', np.mean(scores_recall))\n",
    "print('Standard deviation of recall score:', np.std(scores_recall))\n",
    "\n",
    "scoring_precision = make_scorer(precision_score, pos_label='spam')\n",
    "scores_precision = cross_val_score(svm_model, X, y, cv=10, scoring=scoring_precision)\n",
    "print('Mean precision score:', np.mean(scores_precision))\n",
    "print('Standard deviation of precision score:', np.std(scores_precision))"
   ]
  }
 ],
 "metadata": {
  "colab": {
   "name": "Spam Filters.ipynb",
   "provenance": []
  },
  "kernelspec": {
   "display_name": "Python 3 (ipykernel)",
   "language": "python",
   "name": "python3"
  },
  "language_info": {
   "codemirror_mode": {
    "name": "ipython",
    "version": 3
   },
   "file_extension": ".py",
   "mimetype": "text/x-python",
   "name": "python",
   "nbconvert_exporter": "python",
   "pygments_lexer": "ipython3",
   "version": "3.9.13"
  }
 },
 "nbformat": 4,
 "nbformat_minor": 1
}
